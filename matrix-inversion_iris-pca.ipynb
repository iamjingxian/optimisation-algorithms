{
 "cells": [
  {
   "cell_type": "markdown",
   "id": "83eadaed",
   "metadata": {
    "id": "83eadaed"
   },
   "source": [
    "#### Matrix inverse"
   ]
  },
  {
   "cell_type": "markdown",
   "id": "e21b3155",
   "metadata": {
    "id": "e21b3155"
   },
   "source": [
    "(1) Generate $ n\\times n $ random matrix"
   ]
  },
  {
   "cell_type": "code",
   "execution_count": 1,
   "id": "6f9d5f59",
   "metadata": {
    "executionInfo": {
     "elapsed": 4,
     "status": "ok",
     "timestamp": 1676021924973,
     "user": {
      "displayName": "Russell Li",
      "userId": "03450665481740649198"
     },
     "user_tz": -480
    },
    "id": "6f9d5f59"
   },
   "outputs": [],
   "source": [
    "# import libraries and packages\n",
    "import numpy as np\n",
    "import time\n",
    "import pandas as pd\n",
    "\n",
    "def matrix_A(n):\n",
    "    X = np.random.random((n, n))\n",
    "    X_transpose = X.transpose()\n",
    "    A = np.identity(n) + X_transpose@X\n",
    "    return A"
   ]
  },
  {
   "cell_type": "markdown",
   "id": "759d5b7d",
   "metadata": {
    "id": "759d5b7d"
   },
   "source": [
    "(2) show by defition that $ A = I + X^TX $ is symmetric and positive definite <br>\n",
    "<br>\n",
    "by definition:<br>\n",
    "(i) $A$ is PD $\\Leftrightarrow$ every eigenvalue of $A$ is positive <br>\n",
    "(ii) if $x^{T}Ax > 0, \\forall x\\neq 0, \\Rightarrow A$ is positive definite (PD) <br>\n",
    "<br>\n",
    "\n",
    "consider the identity matrix $I \\in \\mathbb{R}^{n \\times n}$: <br>\n",
    "$Iv = 1v, \\forall v \\in \\mathbb{R}^{n}$ <br>\n",
    "$ \\Rightarrow$ the identity matrix has only one eigenvalue which is 1 <br>\n",
    "$1>0 \\Rightarrow$ the identity matrix $I$ is PD (by (i)) <br>\n",
    "<br>\n",
    "now consider $y^{T}Ay$ where $A = I + X^{T}X$ and $\\forall y in \\mathbb{R}^{n}$: <br>\n",
    "$ \\Rightarrow y^{T}Ay = y^{T}(I + X^{T}X)y = y^{T}Iy + (Xy)^{T}Xy $ <br\n",
    "$ since y^{T}Iy > 0$ and $(Xy)^{T}Xy = $ norm of $Xy$ $\\geq 0$ <br> "
   ]
  },
  {
   "cell_type": "markdown",
   "id": "d10c98e2",
   "metadata": {
    "id": "d10c98e2"
   },
   "source": [
    "(3) Plot a figure of log<sub>10</sub>(time) against $n$."
   ]
  },
  {
   "cell_type": "code",
   "execution_count": 2,
   "id": "8466ca4a",
   "metadata": {
    "id": "8466ca4a",
    "scrolled": false
   },
   "outputs": [
    {
     "data": {
      "text/plain": [
       "<AxesSubplot: xlabel='n', ylabel='log(time)'>"
      ]
     },
     "execution_count": 2,
     "metadata": {},
     "output_type": "execute_result"
    },
    {
     "data": {
      "image/png": "[encoded data removed]",
      "text/plain": [
       "<Figure size 640x480 with 1 Axes>"
      ]
     },
     "metadata": {},
     "output_type": "display_data"
    }
   ],
   "source": [
    "df = pd.DataFrame(columns=['n', 'log(time)'])\n",
    "\n",
    "for n in range(1000,21000,1000):\n",
    "    A = matrix_A(n)\n",
    "    \n",
    "    # time the operation\n",
    "    start_time = time.time()\n",
    "    B = np.linalg.inv(A)\n",
    "    end_time = time.time()\n",
    "    duration = end_time - start_time\n",
    "    \n",
    "    # store values in df\n",
    "    log_duration = f'{np.log10(duration):.2f}'\n",
    "    df_new = pd.DataFrame({'n': [n], 'log(time)': [log_duration]} )\n",
    "    df = pd.concat([df, df_new], ignore_index=True)\n",
    "\n",
    "df.plot(x='n', y='log(time)', kind='scatter')"
   ]
  },
  {
   "cell_type": "markdown",
   "id": "ea394f40",
   "metadata": {
    "id": "ea394f40"
   },
   "source": [
    "(4) What is the largest $n$ that your device can handle? How long does it take to invert this large $n\\times n$ matrix A?\n",
    "\n",
    "My device (macbook air M2 chip) took ~ 2 min to invert a matrix of dimension $n = 20,000$. I expect the device to take be able to handle $n = 2\\times 10^6$ (ie 100 times) before \"crashing\""
   ]
  },
  {
   "cell_type": "markdown",
   "id": "18d22dd7",
   "metadata": {
    "id": "18d22dd7"
   },
   "source": [
    "#### PCA iris dataset"
   ]
  },
  {
   "cell_type": "markdown",
   "id": "e457088b",
   "metadata": {
    "id": "e457088b"
   },
   "source": [
    "(1) download dataset"
   ]
  },
  {
   "cell_type": "code",
   "execution_count": 3,
   "id": "563d05e5",
   "metadata": {
    "id": "563d05e5"
   },
   "outputs": [],
   "source": [
    "# load iris dataset from skleanr\n",
    "from sklearn import datasets\n",
    "iris = datasets.load_iris()"
   ]
  },
  {
   "cell_type": "markdown",
   "id": "0c142939",
   "metadata": {
    "id": "0c142939"
   },
   "source": [
    "(2) Transform feature of dataset and report per Table 1"
   ]
  },
  {
   "cell_type": "code",
   "execution_count": 4,
   "id": "5bc687b1",
   "metadata": {
    "id": "5bc687b1",
    "outputId": "b3e4f408-143f-4306-afb6-198ff792a23a"
   },
   "outputs": [
    {
     "data": {
      "text/html": [
       "<div>\n",
       "<style scoped>\n",
       "    .dataframe tbody tr th:only-of-type {\n",
       "        vertical-align: middle;\n",
       "    }\n",
       "\n",
       "    .dataframe tbody tr th {\n",
       "        vertical-align: top;\n",
       "    }\n",
       "\n",
       "    .dataframe thead th {\n",
       "        text-align: right;\n",
       "    }\n",
       "</style>\n",
       "<table border=\"1\" class=\"dataframe\">\n",
       "  <thead>\n",
       "    <tr style=\"text-align: right;\">\n",
       "      <th></th>\n",
       "      <th>sepal length</th>\n",
       "      <th>sepal width</th>\n",
       "      <th>petal length</th>\n",
       "      <th>petal width</th>\n",
       "      <th>species</th>\n",
       "    </tr>\n",
       "  </thead>\n",
       "  <tbody>\n",
       "    <tr>\n",
       "      <th>0</th>\n",
       "      <td>-0.897674</td>\n",
       "      <td>1.015602</td>\n",
       "      <td>-1.335752</td>\n",
       "      <td>-1.311052</td>\n",
       "      <td>setosa</td>\n",
       "    </tr>\n",
       "    <tr>\n",
       "      <th>1</th>\n",
       "      <td>-1.139200</td>\n",
       "      <td>-0.131539</td>\n",
       "      <td>-1.335752</td>\n",
       "      <td>-1.311052</td>\n",
       "      <td>setosa</td>\n",
       "    </tr>\n",
       "    <tr>\n",
       "      <th>2</th>\n",
       "      <td>-1.380727</td>\n",
       "      <td>0.327318</td>\n",
       "      <td>-1.392399</td>\n",
       "      <td>-1.311052</td>\n",
       "      <td>setosa</td>\n",
       "    </tr>\n",
       "  </tbody>\n",
       "</table>\n",
       "</div>"
      ],
      "text/plain": [
       "   sepal length  sepal width  petal length  petal width species\n",
       "0     -0.897674     1.015602     -1.335752    -1.311052  setosa\n",
       "1     -1.139200    -0.131539     -1.335752    -1.311052  setosa\n",
       "2     -1.380727     0.327318     -1.392399    -1.311052  setosa"
      ]
     },
     "execution_count": 4,
     "metadata": {},
     "output_type": "execute_result"
    }
   ],
   "source": [
    "# convert data to df with required features and column headers\n",
    "df = pd.DataFrame(data= np.c_[iris['data'], iris['target']],\n",
    "                  columns= iris['feature_names'] + ['Species'])\n",
    "\n",
    "# convert target labels to names\n",
    "df = pd.DataFrame(data=np.c_[iris['data'], iris['target']],\n",
    "                  columns= iris['feature_names'] + ['target']).astype({'target': int}) \\\n",
    "       .assign(species=lambda x: x['target'].map(dict(enumerate(iris['target_names']))))\n",
    "\n",
    "# rename headers per assignment qn\n",
    "df = df.rename(columns={'sepal length (cm)': 'sepal length', 'sepal width (cm)': 'sepal width',\n",
    "                       'petal length (cm)': 'petal length', 'petal width (cm)':'petal width'})\n",
    "\n",
    "# remove \"target\" column that is not required\n",
    "del df['target']\n",
    "\n",
    "# normalise data\n",
    "df.iloc[:,0:-1] = df.iloc[:,0:-1].apply(lambda x: (x-x.mean())/ x.std(), axis=0)\n",
    "df.head(3)"
   ]
  },
  {
   "cell_type": "markdown",
   "id": "c3a75507",
   "metadata": {
    "id": "c3a75507"
   },
   "source": [
    "(3) Compute p x p covariance matrix and report its numerical values"
   ]
  },
  {
   "cell_type": "code",
   "execution_count": 5,
   "id": "44468d3d",
   "metadata": {
    "id": "44468d3d",
    "outputId": "30434f03-9a67-4183-cfb0-48654a43f547"
   },
   "outputs": [
    {
     "data": {
      "text/html": [
       "<div>\n",
       "<style scoped>\n",
       "    .dataframe tbody tr th:only-of-type {\n",
       "        vertical-align: middle;\n",
       "    }\n",
       "\n",
       "    .dataframe tbody tr th {\n",
       "        vertical-align: top;\n",
       "    }\n",
       "\n",
       "    .dataframe thead th {\n",
       "        text-align: right;\n",
       "    }\n",
       "</style>\n",
       "<table border=\"1\" class=\"dataframe\">\n",
       "  <thead>\n",
       "    <tr style=\"text-align: right;\">\n",
       "      <th></th>\n",
       "      <th>sepal length</th>\n",
       "      <th>sepal width</th>\n",
       "      <th>petal length</th>\n",
       "      <th>petal width</th>\n",
       "    </tr>\n",
       "  </thead>\n",
       "  <tbody>\n",
       "    <tr>\n",
       "      <th>sepal length</th>\n",
       "      <td>1.000000</td>\n",
       "      <td>-0.117570</td>\n",
       "      <td>0.871754</td>\n",
       "      <td>0.817941</td>\n",
       "    </tr>\n",
       "    <tr>\n",
       "      <th>sepal width</th>\n",
       "      <td>-0.117570</td>\n",
       "      <td>1.000000</td>\n",
       "      <td>-0.428440</td>\n",
       "      <td>-0.366126</td>\n",
       "    </tr>\n",
       "    <tr>\n",
       "      <th>petal length</th>\n",
       "      <td>0.871754</td>\n",
       "      <td>-0.428440</td>\n",
       "      <td>1.000000</td>\n",
       "      <td>0.962865</td>\n",
       "    </tr>\n",
       "    <tr>\n",
       "      <th>petal width</th>\n",
       "      <td>0.817941</td>\n",
       "      <td>-0.366126</td>\n",
       "      <td>0.962865</td>\n",
       "      <td>1.000000</td>\n",
       "    </tr>\n",
       "  </tbody>\n",
       "</table>\n",
       "</div>"
      ],
      "text/plain": [
       "              sepal length  sepal width  petal length  petal width\n",
       "sepal length      1.000000    -0.117570      0.871754     0.817941\n",
       "sepal width      -0.117570     1.000000     -0.428440    -0.366126\n",
       "petal length      0.871754    -0.428440      1.000000     0.962865\n",
       "petal width       0.817941    -0.366126      0.962865     1.000000"
      ]
     },
     "execution_count": 5,
     "metadata": {},
     "output_type": "execute_result"
    }
   ],
   "source": [
    "sigma = df.cov(numeric_only=True)\n",
    "sigma"
   ]
  },
  {
   "cell_type": "markdown",
   "id": "f556a3a8",
   "metadata": {
    "id": "f556a3a8"
   },
   "source": [
    "(4) compute eigenvalue decomposition"
   ]
  },
  {
   "cell_type": "code",
   "execution_count": 6,
   "id": "96e891a4",
   "metadata": {
    "id": "96e891a4",
    "outputId": "ae512ea3-e6e5-433c-bbd3-b5004ef60010",
    "scrolled": true
   },
   "outputs": [
    {
     "data": {
      "text/plain": [
       "array([[2.91849782, 0.        , 0.        , 0.        ],\n",
       "       [0.        , 0.91403047, 0.        , 0.        ],\n",
       "       [0.        , 0.        , 0.14675688, 0.        ],\n",
       "       [0.        , 0.        , 0.        , 0.02071484]])"
      ]
     },
     "execution_count": 6,
     "metadata": {},
     "output_type": "execute_result"
    }
   ],
   "source": [
    "from numpy.linalg import eig\n",
    "values, Q = eig(sigma)\n",
    "D = np.diag(values)\n",
    "D"
   ]
  },
  {
   "cell_type": "code",
   "execution_count": 7,
   "id": "26b8aac1",
   "metadata": {
    "id": "26b8aac1",
    "outputId": "4e76a3ad-9aff-4fff-b9fd-80eb1efe5c27"
   },
   "outputs": [
    {
     "data": {
      "text/plain": [
       "array([[ 0.52106591, -0.37741762, -0.71956635,  0.26128628],\n",
       "       [-0.26934744, -0.92329566,  0.24438178, -0.12350962],\n",
       "       [ 0.5804131 , -0.02449161,  0.14212637, -0.80144925],\n",
       "       [ 0.56485654, -0.06694199,  0.63427274,  0.52359713]])"
      ]
     },
     "execution_count": 7,
     "metadata": {},
     "output_type": "execute_result"
    }
   ],
   "source": [
    "Q_transpose = Q.transpose()\n",
    "Q"
   ]
  },
  {
   "cell_type": "markdown",
   "id": "e422845c",
   "metadata": {
    "id": "e422845c"
   },
   "source": [
    "<!-- (5) Give the first principal component. Recast the data onto the first principal component and plot the results -->"
   ]
  },
  {
   "cell_type": "code",
   "execution_count": 8,
   "id": "90fecc3a",
   "metadata": {
    "id": "90fecc3a",
    "outputId": "2016184b-a9e6-4bf4-a1fa-3a5a87ab5902"
   },
   "outputs": [
    {
     "data": {
      "text/plain": [
       "array([ 0.52106591, -0.26934744,  0.5804131 ,  0.56485654])"
      ]
     },
     "execution_count": 8,
     "metadata": {},
     "output_type": "execute_result"
    }
   ],
   "source": [
    "# first principal component\n",
    "PC1 = Q[:,0]\n",
    "PC1"
   ]
  },
  {
   "cell_type": "code",
   "execution_count": 9,
   "id": "182be6f5",
   "metadata": {
    "id": "182be6f5",
    "outputId": "bdc57cc5-0244-4cbc-a7bb-905bea983573",
    "scrolled": false
   },
   "outputs": [
    {
     "data": {
      "text/plain": [
       "<AxesSubplot: xlabel='PC1', ylabel='y-axis'>"
      ]
     },
     "execution_count": 9,
     "metadata": {},
     "output_type": "execute_result"
    },
    {
     "data": {
      "image/png": "[encoded data removed]",
      "text/plain": [
       "<Figure size 640x480 with 1 Axes>"
      ]
     },
     "metadata": {},
     "output_type": "display_data"
    }
   ],
   "source": [
    "## recast data and plot onto the first pc\n",
    "\n",
    "# recast onto PC1\n",
    "df_PC1 = pd.DataFrame(df.iloc[:,0:4].to_numpy().dot(PC1), columns=[\"PC1\"])\n",
    "\n",
    "# create df with target on x-axis, and an arbitrary y=0\n",
    "    # plots the 1-D data on a 2-D figure\n",
    "\n",
    "df_PC1[\"species\"] = df[\"species\"]\n",
    "df_PC1[\"y-axis\"] = 0\n",
    "\n",
    "# df_PC1.plot(x='PC1', y='y-axis', kind='scatter')\n",
    "\n",
    "import matplotlib.pyplot as plt\n",
    "import seaborn as sns\n",
    "sns.scatterplot(x=\"PC1\", y=\"y-axis\", data=df_PC1, hue=\"species\")"
   ]
  },
  {
   "cell_type": "markdown",
   "id": "4ac58f52",
   "metadata": {
    "id": "4ac58f52"
   },
   "source": [
    "(6) Give the first two principal component. Recast the data onto the first two principal component and plot the results"
   ]
  },
  {
   "cell_type": "code",
   "execution_count": 10,
   "id": "c5313f85",
   "metadata": {
    "id": "c5313f85",
    "outputId": "d2fd68eb-00f0-40bc-b764-3592fd2f7db7"
   },
   "outputs": [
    {
     "data": {
      "text/plain": [
       "array([[ 0.52106591, -0.37741762],\n",
       "       [-0.26934744, -0.92329566],\n",
       "       [ 0.5804131 , -0.02449161],\n",
       "       [ 0.56485654, -0.06694199]])"
      ]
     },
     "execution_count": 10,
     "metadata": {},
     "output_type": "execute_result"
    }
   ],
   "source": [
    "# first two principal component\n",
    "PC2 = Q[:,0:2]\n",
    "PC2"
   ]
  },
  {
   "cell_type": "code",
   "execution_count": 11,
   "id": "2ea17210",
   "metadata": {
    "id": "2ea17210",
    "outputId": "ac5bde90-ede5-42fc-dd08-6055ca0a12dd"
   },
   "outputs": [
    {
     "data": {
      "text/plain": [
       "<AxesSubplot: xlabel='PC1', ylabel='PC2'>"
      ]
     },
     "execution_count": 11,
     "metadata": {},
     "output_type": "execute_result"
    },
    {
     "data": {
      "image/png": "[encoded data removed]",
      "text/plain": [
       "<Figure size 640x480 with 1 Axes>"
      ]
     },
     "metadata": {},
     "output_type": "display_data"
    }
   ],
   "source": [
    "## recast data and plot onto the first two pc\n",
    "\n",
    "# recast onto PC2\n",
    "df_PC2 = pd.DataFrame(df.iloc[:,0:4].to_numpy().dot(PC2), columns=[\"PC1\",\"PC2\"])\n",
    "\n",
    "# set axes and labels\n",
    "df_PC2[\"species\"] = df[\"species\"]\n",
    "\n",
    "sns.scatterplot(x=\"PC1\", y=\"PC2\", data=df_PC2, hue=\"species\")"
   ]
  }
 ],
 "metadata": {
  "colab": {
   "provenance": []
  },
  "kernelspec": {
   "display_name": "Python 3.9 (tensorflow)",
   "language": "python",
   "name": "tensorflow"
  },
  "language_info": {
   "codemirror_mode": {
    "name": "ipython",
    "version": 3
   },
   "file_extension": ".py",
   "mimetype": "text/x-python",
   "name": "python",
   "nbconvert_exporter": "python",
   "pygments_lexer": "ipython3",
   "version": "3.9.13"
  }
 },
 "nbformat": 4,
 "nbformat_minor": 5
}
